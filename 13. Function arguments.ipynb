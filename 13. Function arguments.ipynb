{
 "cells": [
  {
   "cell_type": "markdown",
   "id": "7b4fab13-02a6-457d-857d-1816e715a0ea",
   "metadata": {},
   "source": [
    "#Function Arguments\n",
    "\n",
    "There are four types of arguments that can provide in a function.\n",
    "1. Default arguments\n",
    "2. Keyword arguments\n",
    "3. Variable length arguments\n",
    "4. Required arguments"
   ]
  },
  {
   "cell_type": "code",
   "execution_count": 4,
   "id": "799bae80-e068-4236-ab5c-b9a6076b5d74",
   "metadata": {},
   "outputs": [
    {
     "name": "stdout",
     "output_type": "stream",
     "text": [
      "The average is: 5.0\n"
     ]
    }
   ],
   "source": [
    "#Required arguments\n",
    "\n",
    "def avg(a, b):\n",
    "    print(\"The average is:\", (a+b)/2)\n",
    "avg(4, 6)"
   ]
  },
  {
   "cell_type": "code",
   "execution_count": 5,
   "id": "13c531a1-f403-47ec-b97a-411f1b615b9a",
   "metadata": {},
   "outputs": [
    {
     "name": "stdout",
     "output_type": "stream",
     "text": [
      "The average is: 4.5\n"
     ]
    }
   ],
   "source": [
    "#Default arguments\n",
    "\n",
    "def avg(a= 7, b=2):\n",
    "    print(\"The average is:\", (a+b)/2)\n",
    "avg()"
   ]
  },
  {
   "cell_type": "code",
   "execution_count": 7,
   "id": "b616443c-8e13-4544-887f-e7ae453ce931",
   "metadata": {},
   "outputs": [
    {
     "name": "stdout",
     "output_type": "stream",
     "text": [
      "The average is: 3.0\n"
     ]
    }
   ],
   "source": [
    "#Default arguments-2\n",
    "\n",
    "def avg(a= 7, b=2):\n",
    "    print(\"The average is:\", (a+b)/2)\n",
    "avg(4)"
   ]
  },
  {
   "cell_type": "code",
   "execution_count": 16,
   "id": "5794c906-740e-4229-a9ba-8e48746052e7",
   "metadata": {},
   "outputs": [
    {
     "name": "stdout",
     "output_type": "stream",
     "text": [
      "My name is Topu and I am 27 years old.\n"
     ]
    }
   ],
   "source": [
    "#Keyword arguments\n",
    "\n",
    "def my_identity(name, age):\n",
    "    print(\"My name is\", name, \"and I am\", age, \"years old.\")\n",
    "\n",
    "# Call the function with keyword arguments\n",
    "my_identity(name=\"Topu\", age=27)\n"
   ]
  }
 ],
 "metadata": {
  "kernelspec": {
   "display_name": "Python 3 (ipykernel)",
   "language": "python",
   "name": "python3"
  },
  "language_info": {
   "codemirror_mode": {
    "name": "ipython",
    "version": 3
   },
   "file_extension": ".py",
   "mimetype": "text/x-python",
   "name": "python",
   "nbconvert_exporter": "python",
   "pygments_lexer": "ipython3",
   "version": "3.12.4"
  }
 },
 "nbformat": 4,
 "nbformat_minor": 5
}
