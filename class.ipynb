{
 "cells": [
  {
   "cell_type": "code",
   "execution_count": 19,
   "id": "a55303be-fcb5-4e6b-b584-855001b8df64",
   "metadata": {},
   "outputs": [],
   "source": [
    "class person:\n",
    "    #Constructor Method\n",
    "    def __init__(self, name , age , weight ):\n",
    "        self.name = name\n",
    "        self.age = age\n",
    "        self.weight = weight\n",
    "\n",
    "    #Regular Method\n",
    "    def research(self):\n",
    "        print(self.name)\n",
    "        print(self.age)\n",
    "        print(self.weight)\n",
    "info = person(\"Hasan\", \"26\", \"55\")\n",
    "    "
   ]
  },
  {
   "cell_type": "code",
   "execution_count": 2,
   "id": "9d823bf8-bfdd-4dd7-983e-22edeee88534",
   "metadata": {},
   "outputs": [
    {
     "data": {
      "text/plain": [
       "'Hasan'"
      ]
     },
     "execution_count": 2,
     "metadata": {},
     "output_type": "execute_result"
    }
   ],
   "source": [
    "info.name"
   ]
  },
  {
   "cell_type": "code",
   "execution_count": 3,
   "id": "9057502d-2837-48cc-9532-fb395aa00c8c",
   "metadata": {},
   "outputs": [
    {
     "data": {
      "text/plain": [
       "'26'"
      ]
     },
     "execution_count": 3,
     "metadata": {},
     "output_type": "execute_result"
    }
   ],
   "source": [
    "info.age"
   ]
  },
  {
   "cell_type": "code",
   "execution_count": 5,
   "id": "43c09d16-224b-47cd-a0a5-5d913703d448",
   "metadata": {},
   "outputs": [
    {
     "name": "stdout",
     "output_type": "stream",
     "text": [
      "Hasan will be an impactful researcher and my age is 26\n"
     ]
    }
   ],
   "source": [
    "print(info.name + \" will be an impactful researcher and my age is \" + info.age)"
   ]
  },
  {
   "cell_type": "code",
   "execution_count": 22,
   "id": "0498b80e-317f-4c79-8320-1e36ddaf80ec",
   "metadata": {},
   "outputs": [
    {
     "name": "stdout",
     "output_type": "stream",
     "text": [
      "Hasan\n",
      "26\n",
      "55\n"
     ]
    }
   ],
   "source": [
    "info.research()"
   ]
  },
  {
   "cell_type": "code",
   "execution_count": 23,
   "id": "ade649ea-7a48-47e5-bc8c-7f9b5352b6cc",
   "metadata": {},
   "outputs": [],
   "source": [
    "info = person(\"Mahfuj\", \"26\", \"55\")\n",
    "\n"
   ]
  },
  {
   "cell_type": "code",
   "execution_count": 24,
   "id": "190279b7-c261-4825-bde8-fdc27095c3b4",
   "metadata": {},
   "outputs": [
    {
     "name": "stdout",
     "output_type": "stream",
     "text": [
      "Mahfuj will be an impactful researcher and my age is 26\n"
     ]
    }
   ],
   "source": [
    "print(info.name + \" will be an impactful researcher and my age is \" + info.age)"
   ]
  },
  {
   "cell_type": "code",
   "execution_count": null,
   "id": "da852c26-e0f9-438a-ab3c-efb09a44f024",
   "metadata": {},
   "outputs": [],
   "source": []
  }
 ],
 "metadata": {
  "kernelspec": {
   "display_name": "Python 3 (ipykernel)",
   "language": "python",
   "name": "python3"
  },
  "language_info": {
   "codemirror_mode": {
    "name": "ipython",
    "version": 3
   },
   "file_extension": ".py",
   "mimetype": "text/x-python",
   "name": "python",
   "nbconvert_exporter": "python",
   "pygments_lexer": "ipython3",
   "version": "3.12.4"
  }
 },
 "nbformat": 4,
 "nbformat_minor": 5
}
