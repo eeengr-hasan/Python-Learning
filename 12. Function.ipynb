{
 "cells": [
  {
   "cell_type": "code",
   "execution_count": 1,
   "id": "755f2b86-6471-4e6b-9041-03651cc6eb4d",
   "metadata": {},
   "outputs": [
    {
     "name": "stdout",
     "output_type": "stream",
     "text": [
      "3.7333333333333334\n"
     ]
    }
   ],
   "source": [
    "a = 8 \n",
    "b = 7\n",
    "gmean1 = (a*b)/(a+b)\n",
    "print(gmean1)"
   ]
  },
  {
   "cell_type": "code",
   "execution_count": 2,
   "id": "62002b03-7c37-4fc1-9dcf-c770b73c0ef8",
   "metadata": {},
   "outputs": [
    {
     "name": "stdout",
     "output_type": "stream",
     "text": [
      "2.727272727272727\n"
     ]
    }
   ],
   "source": [
    "c = 5\n",
    "d = 6\n",
    "gmean2 = (c*d)/(c+d)\n",
    "print(gmean2)"
   ]
  },
  {
   "cell_type": "code",
   "execution_count": 9,
   "id": "b73a2554-71c3-42ca-9b69-581b5c3881c1",
   "metadata": {},
   "outputs": [
    {
     "name": "stdout",
     "output_type": "stream",
     "text": [
      "3.7333333333333334\n"
     ]
    }
   ],
   "source": [
    "def calculateGmean(a, b):\n",
    "    mean = (a*b)/(a+b)\n",
    "    print(mean)\n",
    "\n",
    "a = 8\n",
    "b = 7\n",
    "calculateGmean(a, b)"
   ]
  },
  {
   "cell_type": "code",
   "execution_count": 8,
   "id": "de3db176-7937-4d0c-adf3-ab574a869eeb",
   "metadata": {},
   "outputs": [
    {
     "name": "stdout",
     "output_type": "stream",
     "text": [
      "2.727272727272727\n"
     ]
    }
   ],
   "source": [
    "c = 5\n",
    "d = 6\n",
    "calculateGmean(c, d)"
   ]
  },
  {
   "cell_type": "code",
   "execution_count": 10,
   "id": "84b2f377-c69a-4116-988a-4314642301f7",
   "metadata": {},
   "outputs": [
    {
     "name": "stdout",
     "output_type": "stream",
     "text": [
      "3.7333333333333334\n",
      "2.727272727272727\n"
     ]
    }
   ],
   "source": [
    "#Together in a cell\n",
    "\n",
    "def calculateGmean(a, b):\n",
    "    mean = (a*b)/(a+b)\n",
    "    print(mean)\n",
    "\n",
    "a = 8\n",
    "b = 7\n",
    "calculateGmean(a, b)\n",
    "\n",
    "c = 5\n",
    "d = 6\n",
    "calculateGmean(c, d)"
   ]
  },
  {
   "cell_type": "code",
   "execution_count": null,
   "id": "1e0130df-cf0e-46db-9f09-5830cf31504b",
   "metadata": {},
   "outputs": [],
   "source": []
  },
  {
   "cell_type": "code",
   "execution_count": null,
   "id": "a04b81e2-ed55-43c5-be97-e8aff22e1de8",
   "metadata": {},
   "outputs": [],
   "source": []
  },
  {
   "cell_type": "code",
   "execution_count": 15,
   "id": "ed0a8f2d-0326-4cfd-923a-851323654107",
   "metadata": {},
   "outputs": [
    {
     "name": "stdout",
     "output_type": "stream",
     "text": [
      "First number is greater\n",
      "Second number is greater\n"
     ]
    }
   ],
   "source": [
    "def isGreater(x, y):\n",
    "    if(x>y):\n",
    "        print(\"First number is greater\")\n",
    "    else:\n",
    "        print(\"Second number is greater\")\n",
    "\n",
    "x = 7\n",
    "y = 4\n",
    "isGreater(x, y)\n",
    "\n",
    "a = 5\n",
    "b = 9\n",
    "isGreater(a, b)"
   ]
  }
 ],
 "metadata": {
  "kernelspec": {
   "display_name": "Python 3 (ipykernel)",
   "language": "python",
   "name": "python3"
  },
  "language_info": {
   "codemirror_mode": {
    "name": "ipython",
    "version": 3
   },
   "file_extension": ".py",
   "mimetype": "text/x-python",
   "name": "python",
   "nbconvert_exporter": "python",
   "pygments_lexer": "ipython3",
   "version": "3.12.4"
  }
 },
 "nbformat": 4,
 "nbformat_minor": 5
}
