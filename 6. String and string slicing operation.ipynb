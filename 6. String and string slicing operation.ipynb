{
 "cells": [
  {
   "cell_type": "code",
   "execution_count": 4,
   "id": "860856c3-6d03-4acb-ab16-0f9a036d556d",
   "metadata": {},
   "outputs": [
    {
     "name": "stdout",
     "output_type": "stream",
     "text": [
      "Topu\n"
     ]
    }
   ],
   "source": [
    "name = \"Topu\"\n",
    "print(name)"
   ]
  },
  {
   "cell_type": "markdown",
   "id": "657373c6-7c76-4306-90cf-14dde9d20356",
   "metadata": {},
   "source": [
    "Loop through string"
   ]
  },
  {
   "cell_type": "code",
   "execution_count": 5,
   "id": "908832a8-9d1e-4443-a85b-8b5f9e3342c7",
   "metadata": {},
   "outputs": [
    {
     "name": "stdout",
     "output_type": "stream",
     "text": [
      "T\n",
      "o\n",
      "p\n",
      "u\n"
     ]
    }
   ],
   "source": [
    "name = \"Topu\"\n",
    "for character in name:\n",
    "    print(character)"
   ]
  },
  {
   "cell_type": "markdown",
   "id": "76c4b065-6cc9-4899-954f-c81ab4afc7df",
   "metadata": {},
   "source": [
    "String Slicing"
   ]
  },
  {
   "cell_type": "code",
   "execution_count": 7,
   "id": "db32afcb-1839-4203-986d-11ba800561e5",
   "metadata": {},
   "outputs": [
    {
     "name": "stdout",
     "output_type": "stream",
     "text": [
      "Mahmudul\n"
     ]
    }
   ],
   "source": [
    "names = \"Md Mahmudul Hasan Topu\"\n",
    "print(names[3:11])"
   ]
  },
  {
   "cell_type": "code",
   "execution_count": 9,
   "id": "a73b9e38-946c-4cba-80ce-f7962f2274a6",
   "metadata": {},
   "outputs": [
    {
     "name": "stdout",
     "output_type": "stream",
     "text": [
      "Md Mahmudul\n"
     ]
    }
   ],
   "source": [
    "names = \"Md Mahmudul Hasan Topu\"\n",
    "print(names[:11])"
   ]
  },
  {
   "cell_type": "code",
   "execution_count": 10,
   "id": "b6bf783a-9be9-44cf-9354-0ad1e8165a1f",
   "metadata": {},
   "outputs": [
    {
     "name": "stdout",
     "output_type": "stream",
     "text": [
      "22\n"
     ]
    }
   ],
   "source": [
    "names = \"Md Mahmudul Hasan Topu\"\n",
    "print(len(names))"
   ]
  },
  {
   "cell_type": "code",
   "execution_count": 14,
   "id": "9fa54b4b-46fd-422e-be70-9891730b2b1e",
   "metadata": {},
   "outputs": [
    {
     "name": "stdout",
     "output_type": "stream",
     "text": [
      "Hasan \n"
     ]
    }
   ],
   "source": [
    "# Reverse slicing\n",
    "names = \"Md Mahmudul Hasan Topu\"\n",
    "print(names[-10:-4])"
   ]
  }
 ],
 "metadata": {
  "kernelspec": {
   "display_name": "Python 3 (ipykernel)",
   "language": "python",
   "name": "python3"
  },
  "language_info": {
   "codemirror_mode": {
    "name": "ipython",
    "version": 3
   },
   "file_extension": ".py",
   "mimetype": "text/x-python",
   "name": "python",
   "nbconvert_exporter": "python",
   "pygments_lexer": "ipython3",
   "version": "3.12.4"
  }
 },
 "nbformat": 4,
 "nbformat_minor": 5
}
