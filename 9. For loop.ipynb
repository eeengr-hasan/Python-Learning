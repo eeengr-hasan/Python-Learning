{
 "cells": [
  {
   "cell_type": "code",
   "execution_count": 1,
   "id": "5bd8521a-8df9-408a-951a-eb3f092c3bb8",
   "metadata": {},
   "outputs": [
    {
     "name": "stdout",
     "output_type": "stream",
     "text": [
      "M\n",
      "a\n",
      "h\n",
      "m\n",
      "u\n",
      "d\n",
      "u\n",
      "l\n"
     ]
    }
   ],
   "source": [
    "#String Loop\n",
    "\n",
    "name = (\"Mahmudul\")\n",
    "for i in name:\n",
    "    print(i)"
   ]
  },
  {
   "cell_type": "code",
   "execution_count": 2,
   "id": "fc84270d-1e0f-45be-b9ac-02828dc9e37b",
   "metadata": {},
   "outputs": [
    {
     "name": "stdout",
     "output_type": "stream",
     "text": [
      "M\n",
      "a\n",
      "This character is a\n",
      "h\n",
      "m\n",
      "u\n",
      "d\n",
      "u\n",
      "l\n"
     ]
    }
   ],
   "source": [
    "#String Loop\n",
    "\n",
    "name = (\"Mahmudul\")\n",
    "for i in name:\n",
    "    print(i)\n",
    "    if (i == \"a\"):\n",
    "        print(\"This character is a\")"
   ]
  },
  {
   "cell_type": "code",
   "execution_count": 3,
   "id": "e34eef32-8100-430a-8ceb-99bfe957332f",
   "metadata": {},
   "outputs": [
    {
     "name": "stdout",
     "output_type": "stream",
     "text": [
      "Red\n",
      "Green\n",
      "Black\n",
      "White\n"
     ]
    }
   ],
   "source": [
    "#List Loop\n",
    "\n",
    "color_list = [\"Red\", \"Green\", \"Black\", \"White\"]\n",
    "for color in color_list:\n",
    "    print(color)"
   ]
  },
  {
   "cell_type": "code",
   "execution_count": 4,
   "id": "d259b09f-8d17-4c67-91f2-e8eb93291abe",
   "metadata": {},
   "outputs": [
    {
     "name": "stdout",
     "output_type": "stream",
     "text": [
      "Red\n",
      "R\n",
      "e\n",
      "d\n",
      "Green\n",
      "G\n",
      "r\n",
      "e\n",
      "e\n",
      "n\n",
      "Black\n",
      "B\n",
      "l\n",
      "a\n",
      "c\n",
      "k\n",
      "White\n",
      "W\n",
      "h\n",
      "i\n",
      "t\n",
      "e\n"
     ]
    }
   ],
   "source": [
    "color_list = [\"Red\", \"Green\", \"Black\", \"White\"]\n",
    "for color in color_list:\n",
    "    print(color)\n",
    "    for i in color:\n",
    "        print(i)"
   ]
  },
  {
   "cell_type": "code",
   "execution_count": 5,
   "id": "0c3cf3f3-fa9f-4b9a-8a77-4e8321695401",
   "metadata": {},
   "outputs": [
    {
     "name": "stdout",
     "output_type": "stream",
     "text": [
      "0\n",
      "1\n",
      "2\n",
      "3\n",
      "4\n"
     ]
    }
   ],
   "source": [
    "for a in range(5):\n",
    "    print(a)"
   ]
  },
  {
   "cell_type": "code",
   "execution_count": 6,
   "id": "e3b48469-2cc9-4e08-81b3-19f4ee85a9e2",
   "metadata": {},
   "outputs": [
    {
     "name": "stdout",
     "output_type": "stream",
     "text": [
      "1\n",
      "2\n",
      "3\n",
      "4\n",
      "5\n"
     ]
    }
   ],
   "source": [
    "for a in range(5):\n",
    "    print(a + 1)"
   ]
  },
  {
   "cell_type": "code",
   "execution_count": 7,
   "id": "68017cf0-7633-4257-bbf3-6f337c913311",
   "metadata": {},
   "outputs": [
    {
     "name": "stdout",
     "output_type": "stream",
     "text": [
      "1\n",
      "2\n",
      "3\n",
      "4\n",
      "5\n",
      "6\n"
     ]
    }
   ],
   "source": [
    "for x in range (1, 7):\n",
    "    print(x)"
   ]
  },
  {
   "cell_type": "code",
   "execution_count": 8,
   "id": "a69cadb0-16d7-4382-9746-1666e83ec32d",
   "metadata": {},
   "outputs": [
    {
     "name": "stdout",
     "output_type": "stream",
     "text": [
      "1\n",
      "4\n",
      "7\n",
      "10\n",
      "13\n"
     ]
    }
   ],
   "source": [
    "for x in range (1, 15, 3):\n",
    "    print(x)"
   ]
  }
 ],
 "metadata": {
  "kernelspec": {
   "display_name": "Python 3 (ipykernel)",
   "language": "python",
   "name": "python3"
  },
  "language_info": {
   "codemirror_mode": {
    "name": "ipython",
    "version": 3
   },
   "file_extension": ".py",
   "mimetype": "text/x-python",
   "name": "python",
   "nbconvert_exporter": "python",
   "pygments_lexer": "ipython3",
   "version": "3.12.4"
  }
 },
 "nbformat": 4,
 "nbformat_minor": 5
}
