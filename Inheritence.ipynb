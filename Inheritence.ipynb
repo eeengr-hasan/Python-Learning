{
 "cells": [
  {
   "cell_type": "code",
   "execution_count": 20,
   "id": "dc253a58-4fbb-4410-8589-240d8b43cb8c",
   "metadata": {},
   "outputs": [],
   "source": [
    "class Cricket:\n",
    "    def __init__(self, player, age):\n",
    "        self.player = player\n",
    "        self.age = age\n",
    "\n",
    "    def play(self):\n",
    "        print(self.player + \" is batting.\")"
   ]
  },
  {
   "cell_type": "code",
   "execution_count": 21,
   "id": "bed71690-ebd1-4b93-bff2-b5dd46f3cd43",
   "metadata": {},
   "outputs": [],
   "source": [
    "tamim = Cricket(\"Tamim\", \"35\")"
   ]
  },
  {
   "cell_type": "code",
   "execution_count": 22,
   "id": "e917aab4-04ef-4359-96d5-acfa5ed2eed3",
   "metadata": {},
   "outputs": [
    {
     "name": "stdout",
     "output_type": "stream",
     "text": [
      "Tamim is batting.\n"
     ]
    }
   ],
   "source": [
    "tamim.play()"
   ]
  },
  {
   "cell_type": "code",
   "execution_count": 32,
   "id": "148804a1-5dff-4a2f-9092-9bac41ab7a2b",
   "metadata": {},
   "outputs": [],
   "source": [
    "class Mashrafe(Cricket):\n",
    "    def __init__(self, player, age):\n",
    "         super().__init__(player, age)\n",
    "\n",
    "    def politician(self):\n",
    "        print(self.player + \" is bowling.\")"
   ]
  },
  {
   "cell_type": "code",
   "execution_count": 33,
   "id": "96653b4a-bc3d-4f35-bcf4-6febd34579e3",
   "metadata": {},
   "outputs": [],
   "source": [
    "mash = Mashrafe(\"Mashrafe\", \"45\")"
   ]
  },
  {
   "cell_type": "code",
   "execution_count": 34,
   "id": "b55d04f2-4416-4c0f-99b6-fa02870836cc",
   "metadata": {},
   "outputs": [
    {
     "name": "stdout",
     "output_type": "stream",
     "text": [
      "Mashrafe is batting.\n"
     ]
    }
   ],
   "source": [
    "mash.play()"
   ]
  }
 ],
 "metadata": {
  "kernelspec": {
   "display_name": "Python 3 (ipykernel)",
   "language": "python",
   "name": "python3"
  },
  "language_info": {
   "codemirror_mode": {
    "name": "ipython",
    "version": 3
   },
   "file_extension": ".py",
   "mimetype": "text/x-python",
   "name": "python",
   "nbconvert_exporter": "python",
   "pygments_lexer": "ipython3",
   "version": "3.12.4"
  }
 },
 "nbformat": 4,
 "nbformat_minor": 5
}
