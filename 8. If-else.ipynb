{
 "cells": [
  {
   "cell_type": "markdown",
   "id": "0613e7a2-78f5-45f1-8d75-1b843fa06857",
   "metadata": {},
   "source": [
    "Conditional Operator"
   ]
  },
  {
   "cell_type": "code",
   "execution_count": 8,
   "id": "dcb4e3bd-cfcd-474e-b08e-64a148c29c28",
   "metadata": {},
   "outputs": [
    {
     "name": "stdin",
     "output_type": "stream",
     "text": [
      "Enter your age:  18\n"
     ]
    },
    {
     "name": "stdout",
     "output_type": "stream",
     "text": [
      "Your age is  18\n",
      "False\n",
      "False\n",
      "True\n",
      "True\n",
      "True\n",
      "False\n"
     ]
    }
   ],
   "source": [
    "# Conditional operator: <, >, <=, >=, ==, !=\n",
    "\n",
    "x = int(input(\"Enter your age: \"))\n",
    "print(\"Your age is \", x)\n",
    "print(x < 18)\n",
    "print(x > 18)\n",
    "print(x <= 18)\n",
    "print(x >= 18)\n",
    "print(x == 18)\n",
    "print(x != 18)"
   ]
  },
  {
   "cell_type": "markdown",
   "id": "6e38cb7b-945c-4b56-8b51-106029b710b2",
   "metadata": {},
   "source": [
    "If-else condition follows the rule of conditional operator"
   ]
  },
  {
   "cell_type": "code",
   "execution_count": 9,
   "id": "14fac27a-5c80-413a-9712-7853290cf23e",
   "metadata": {},
   "outputs": [
    {
     "name": "stdin",
     "output_type": "stream",
     "text": [
      "Enter your age:  47\n"
     ]
    },
    {
     "name": "stdout",
     "output_type": "stream",
     "text": [
      "Your age is 47\n",
      "You can drive\n"
     ]
    }
   ],
   "source": [
    "#if - else\n",
    "\n",
    "a = int(input(\"Enter your age: \"))\n",
    "print(\"Your age is\", a)\n",
    "if (a > 18):\n",
    "    print(\"You can drive\")\n",
    "else:\n",
    "    print(\"You cannot drive\")"
   ]
  },
  {
   "cell_type": "code",
   "execution_count": 14,
   "id": "0b92d4d7-2311-4c76-af13-b01a5a1789c4",
   "metadata": {},
   "outputs": [
    {
     "name": "stdin",
     "output_type": "stream",
     "text": [
      "Enter the number:  7\n"
     ]
    },
    {
     "name": "stdout",
     "output_type": "stream",
     "text": [
      "Number is positive\n"
     ]
    }
   ],
   "source": [
    "#elif\n",
    "\n",
    "x = int(input(\"Enter the number: \"))\n",
    "if (x < 0):\n",
    "    print(\"Number is negative\")\n",
    "elif (x == 0):\n",
    "    print(\"Number is zero\")\n",
    "elif (x == a):\n",
    "    print(\"Not a number\")\n",
    "else:\n",
    "    print(\"Number is positive\")"
   ]
  },
  {
   "cell_type": "code",
   "execution_count": 15,
   "id": "2016b876-fb90-4f48-bb30-84215b49ad2b",
   "metadata": {},
   "outputs": [
    {
     "name": "stdin",
     "output_type": "stream",
     "text": [
      "Enter the number:  17\n"
     ]
    },
    {
     "name": "stdout",
     "output_type": "stream",
     "text": [
      "Number is between 11-20\n"
     ]
    }
   ],
   "source": [
    "#Nested if-else\n",
    "\n",
    "b = int(input(\"Enter the number: \"))\n",
    "if (b < 0):\n",
    "    print(\"Number is negative\")\n",
    "elif (b > 0):\n",
    "    if (b <= 10):\n",
    "        print(\"Number is between 1-10\")\n",
    "    elif (b > 10 and b<=20):\n",
    "        print(\"Number is between 11-20\")\n",
    "    else:\n",
    "        print(\"Number is greater than 20\")\n",
    "else:\n",
    "    print(\"Number is zero\")"
   ]
  }
 ],
 "metadata": {
  "kernelspec": {
   "display_name": "Python 3 (ipykernel)",
   "language": "python",
   "name": "python3"
  },
  "language_info": {
   "codemirror_mode": {
    "name": "ipython",
    "version": 3
   },
   "file_extension": ".py",
   "mimetype": "text/x-python",
   "name": "python",
   "nbconvert_exporter": "python",
   "pygments_lexer": "ipython3",
   "version": "3.12.4"
  }
 },
 "nbformat": 4,
 "nbformat_minor": 5
}
