{
 "cells": [
  {
   "cell_type": "code",
   "execution_count": 1,
   "id": "d4daf12a-9d47-496a-a7cf-457c0cf71e9c",
   "metadata": {},
   "outputs": [
    {
     "name": "stdout",
     "output_type": "stream",
     "text": [
      "12\n"
     ]
    }
   ],
   "source": [
    "a = \"1\"\n",
    "b = \"2\"\n",
    "print (a + b)"
   ]
  },
  {
   "cell_type": "code",
   "execution_count": 2,
   "id": "33cb5761-22ff-4178-9c11-2aa998f4b8d5",
   "metadata": {},
   "outputs": [
    {
     "name": "stdout",
     "output_type": "stream",
     "text": [
      "3\n"
     ]
    }
   ],
   "source": [
    "a = \"1\"\n",
    "b = \"2\"\n",
    "print (int(a) + int(b))"
   ]
  },
  {
   "cell_type": "code",
   "execution_count": 4,
   "id": "faac0eb8-fbd1-4b5e-99c0-f34476fc1292",
   "metadata": {},
   "outputs": [],
   "source": [
    "# Two types of typecasting\n",
    "# 1. Explicit conversion\n",
    "# 2. Implicit conversion"
   ]
  },
  {
   "cell_type": "markdown",
   "id": "fd66a514-bdf1-4543-9be8-431147e37ede",
   "metadata": {},
   "source": [
    "Explicit Typecasting"
   ]
  },
  {
   "cell_type": "code",
   "execution_count": 6,
   "id": "a58bc5fd-20f1-48be-9163-6eb722cfd784",
   "metadata": {},
   "outputs": [
    {
     "name": "stdout",
     "output_type": "stream",
     "text": [
      "The Sum of Both the Numbers: 37\n"
     ]
    }
   ],
   "source": [
    "string = \"10\"\n",
    "number = 27\n",
    "string_number =int(string)\n",
    "sum = number + string_number\n",
    "print(\"The Sum of Both the Numbers:\", sum)"
   ]
  },
  {
   "cell_type": "markdown",
   "id": "06571f56-70c6-4c27-8912-5ddfeb125f79",
   "metadata": {},
   "source": [
    "Implicit Typecasting"
   ]
  },
  {
   "cell_type": "code",
   "execution_count": 9,
   "id": "9a0d3fea-f09c-447b-8a6e-781bf0d8b599",
   "metadata": {},
   "outputs": [
    {
     "name": "stdout",
     "output_type": "stream",
     "text": [
      "8.7\n"
     ]
    }
   ],
   "source": [
    "x = 3.7\n",
    "y = 5\n",
    "print(x + y)  #Integar value of y is converting into float. And the result came as float."
   ]
  }
 ],
 "metadata": {
  "kernelspec": {
   "display_name": "Python 3 (ipykernel)",
   "language": "python",
   "name": "python3"
  },
  "language_info": {
   "codemirror_mode": {
    "name": "ipython",
    "version": 3
   },
   "file_extension": ".py",
   "mimetype": "text/x-python",
   "name": "python",
   "nbconvert_exporter": "python",
   "pygments_lexer": "ipython3",
   "version": "3.12.4"
  }
 },
 "nbformat": 4,
 "nbformat_minor": 5
}
