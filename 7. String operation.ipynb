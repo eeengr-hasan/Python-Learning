{
 "cells": [
  {
   "cell_type": "code",
   "execution_count": 1,
   "id": "77666f38-6944-411e-be76-8ecbab55c30e",
   "metadata": {},
   "outputs": [
    {
     "name": "stdout",
     "output_type": "stream",
     "text": [
      "Hasan\n"
     ]
    }
   ],
   "source": [
    "name = \"Hasan\"\n",
    "print(name)"
   ]
  },
  {
   "cell_type": "code",
   "execution_count": 2,
   "id": "57b10a2f-b670-4fa0-a1e6-91702afd6869",
   "metadata": {},
   "outputs": [
    {
     "name": "stdout",
     "output_type": "stream",
     "text": [
      "Hasan\n",
      "HASAN\n",
      "hasan\n"
     ]
    }
   ],
   "source": [
    "name = \"Hasan\"\n",
    "print(name)\n",
    "print(name.upper())\n",
    "print(name.lower())"
   ]
  },
  {
   "cell_type": "markdown",
   "id": "40601439-5f19-4670-8e10-d9e6a3925bf4",
   "metadata": {},
   "source": [
    "rstrip"
   ]
  },
  {
   "cell_type": "code",
   "execution_count": 4,
   "id": "d508fb8a-8a64-428d-8c6d-be292b7bf2b3",
   "metadata": {},
   "outputs": [
    {
     "name": "stdout",
     "output_type": "stream",
     "text": [
      "Topu\n"
     ]
    }
   ],
   "source": [
    "a = \"Topu!!!!\"\n",
    "print(a.rstrip(\"!\"))"
   ]
  },
  {
   "cell_type": "markdown",
   "id": "447c48b6-5435-448b-841f-b662509999d3",
   "metadata": {},
   "source": [
    "REPLACE"
   ]
  },
  {
   "cell_type": "code",
   "execution_count": 6,
   "id": "7b6eec08-3863-4304-b94c-e70a3c17d3c0",
   "metadata": {},
   "outputs": [
    {
     "name": "stdout",
     "output_type": "stream",
     "text": [
      "Hasan\n",
      "Topu\n"
     ]
    }
   ],
   "source": [
    "x = \"Hasan\"\n",
    "print(x)\n",
    "print(x.replace(\"Hasan\", \"Topu\"))"
   ]
  },
  {
   "cell_type": "code",
   "execution_count": 9,
   "id": "a866eed4-3443-41a2-bafa-8f8b89aebc74",
   "metadata": {},
   "outputs": [
    {
     "name": "stdout",
     "output_type": "stream",
     "text": [
      "Md Mahmudul Hasan\n",
      "['Md', 'Mahmudul', 'Hasan']\n"
     ]
    }
   ],
   "source": [
    "b = \"Md Mahmudul Hasan\"\n",
    "print(b)\n",
    "print(b.split(\" \"))"
   ]
  },
  {
   "cell_type": "markdown",
   "id": "09e1ef1f-fe21-4ab2-8e9e-c4146c9f2dd1",
   "metadata": {},
   "source": [
    "ENDSWITH"
   ]
  },
  {
   "cell_type": "code",
   "execution_count": 8,
   "id": "9042b73b-b25a-4104-8503-a9e0c2da1513",
   "metadata": {},
   "outputs": [
    {
     "name": "stdout",
     "output_type": "stream",
     "text": [
      "True\n"
     ]
    }
   ],
   "source": [
    "a = \"Hello Topu!!\"\n",
    "print(a.endswith(\"!!\"))"
   ]
  },
  {
   "cell_type": "markdown",
   "id": "b5fc759f-549a-464c-80ea-74cefbe59682",
   "metadata": {},
   "source": [
    "FIND"
   ]
  },
  {
   "cell_type": "code",
   "execution_count": 10,
   "id": "386ce047-b156-4370-9b24-f8f647780c1e",
   "metadata": {},
   "outputs": [
    {
     "name": "stdout",
     "output_type": "stream",
     "text": [
      "8\n"
     ]
    }
   ],
   "source": [
    "a = \"My name is Topu\"\n",
    "print(a.find(\"is\"))"
   ]
  },
  {
   "cell_type": "markdown",
   "id": "99768fab-c19a-4261-af70-c714d718049f",
   "metadata": {},
   "source": [
    "INDEX"
   ]
  },
  {
   "cell_type": "code",
   "execution_count": 11,
   "id": "ebb139eb-98a0-4a04-bf13-975384f52fa5",
   "metadata": {},
   "outputs": [
    {
     "name": "stdout",
     "output_type": "stream",
     "text": [
      "11\n"
     ]
    }
   ],
   "source": [
    "a = \"My name is Topu\"\n",
    "print(a.index(\"Topu\"))"
   ]
  },
  {
   "cell_type": "markdown",
   "id": "4e504dde-55b7-4106-95d2-a49d57a3c98a",
   "metadata": {},
   "source": [
    "SWAP-CASE"
   ]
  },
  {
   "cell_type": "code",
   "execution_count": 12,
   "id": "8b0975cf-9d46-47fc-98c5-221eacf39f8f",
   "metadata": {},
   "outputs": [
    {
     "name": "stdout",
     "output_type": "stream",
     "text": [
      "mY NAME IS tOPU\n"
     ]
    }
   ],
   "source": [
    "x = \"My name is Topu\"\n",
    "print(x.swapcase())"
   ]
  }
 ],
 "metadata": {
  "kernelspec": {
   "display_name": "Python 3 (ipykernel)",
   "language": "python",
   "name": "python3"
  },
  "language_info": {
   "codemirror_mode": {
    "name": "ipython",
    "version": 3
   },
   "file_extension": ".py",
   "mimetype": "text/x-python",
   "name": "python",
   "nbconvert_exporter": "python",
   "pygments_lexer": "ipython3",
   "version": "3.12.4"
  }
 },
 "nbformat": 4,
 "nbformat_minor": 5
}
