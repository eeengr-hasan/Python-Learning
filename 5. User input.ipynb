{
 "cells": [
  {
   "cell_type": "code",
   "execution_count": 1,
   "id": "e77bfc94-272d-4c46-b8a4-94e3ab304572",
   "metadata": {},
   "outputs": [
    {
     "name": "stdin",
     "output_type": "stream",
     "text": [
      " Topu\n"
     ]
    },
    {
     "name": "stdout",
     "output_type": "stream",
     "text": [
      "Topu\n"
     ]
    }
   ],
   "source": [
    "a = input()\n",
    "print(a)"
   ]
  },
  {
   "cell_type": "code",
   "execution_count": 4,
   "id": "ba8bd96f-3385-4450-84a6-cf6317dd28ec",
   "metadata": {},
   "outputs": [
    {
     "name": "stdin",
     "output_type": "stream",
     "text": [
      "Enter your name:  Topu\n"
     ]
    },
    {
     "name": "stdout",
     "output_type": "stream",
     "text": [
      "My name is  Topu\n"
     ]
    }
   ],
   "source": [
    "b = input(\"Enter your name: \")\n",
    "print(\"My name is \", b)"
   ]
  },
  {
   "cell_type": "code",
   "execution_count": 5,
   "id": "b98d91c9-db47-45ca-b19a-916a0d58e9e3",
   "metadata": {},
   "outputs": [
    {
     "name": "stdin",
     "output_type": "stream",
     "text": [
      "Enter your first number:  7\n",
      "Enter your second number:  5\n"
     ]
    },
    {
     "name": "stdout",
     "output_type": "stream",
     "text": [
      "75\n"
     ]
    }
   ],
   "source": [
    "x = input(\"Enter your first number: \")\n",
    "y = input(\"Enter your second number: \")\n",
    "print(x + y)\n",
    "\n",
    "#Here, the printed output is 75. Because the x and y input values are in string format."
   ]
  },
  {
   "cell_type": "code",
   "execution_count": 7,
   "id": "69ee8032-1ed9-4ab3-ad89-c91c4fc80d81",
   "metadata": {},
   "outputs": [
    {
     "name": "stdin",
     "output_type": "stream",
     "text": [
      "Enter your first number:  8\n",
      "Enter your second number:  4\n"
     ]
    },
    {
     "name": "stdout",
     "output_type": "stream",
     "text": [
      "12\n"
     ]
    }
   ],
   "source": [
    "x = input(\"Enter your first number: \")\n",
    "y = input(\"Enter your second number: \")\n",
    "print(int(x) + int(y))\n",
    "\n",
    "# Here, the printed output is 12. Because, I have declared the iput type as integer."
   ]
  },
  {
   "cell_type": "code",
   "execution_count": 8,
   "id": "7a415f50-e936-4820-8b0c-87e209efccfa",
   "metadata": {},
   "outputs": [
    {
     "name": "stdin",
     "output_type": "stream",
     "text": [
      "Enter your first number:  4\n",
      "Enter your second number:  2.3\n"
     ]
    },
    {
     "name": "stdout",
     "output_type": "stream",
     "text": [
      "6.3\n"
     ]
    }
   ],
   "source": [
    "x = input(\"Enter your first number: \")\n",
    "y = input(\"Enter your second number: \")\n",
    "print(int(x) + float(y))"
   ]
  }
 ],
 "metadata": {
  "kernelspec": {
   "display_name": "Python 3 (ipykernel)",
   "language": "python",
   "name": "python3"
  },
  "language_info": {
   "codemirror_mode": {
    "name": "ipython",
    "version": 3
   },
   "file_extension": ".py",
   "mimetype": "text/x-python",
   "name": "python",
   "nbconvert_exporter": "python",
   "pygments_lexer": "ipython3",
   "version": "3.12.4"
  }
 },
 "nbformat": 4,
 "nbformat_minor": 5
}
