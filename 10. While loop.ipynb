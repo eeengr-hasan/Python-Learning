{
 "cells": [
  {
   "cell_type": "code",
   "execution_count": 3,
   "id": "405d74a1-3d29-44cd-82dd-ffb3634260df",
   "metadata": {},
   "outputs": [
    {
     "name": "stdout",
     "output_type": "stream",
     "text": [
      "0\n",
      "1\n",
      "2\n",
      "3\n",
      "4\n"
     ]
    }
   ],
   "source": [
    "a = 0\n",
    "while(a < 5):\n",
    "    print(a)\n",
    "    a = a + 1"
   ]
  },
  {
   "cell_type": "code",
   "execution_count": 4,
   "id": "0fe4884a-ccbb-43f6-a022-3acb61dd0edd",
   "metadata": {},
   "outputs": [
    {
     "name": "stdout",
     "output_type": "stream",
     "text": [
      "0\n",
      "1\n",
      "2\n",
      "3\n",
      "4\n",
      "5\n"
     ]
    }
   ],
   "source": [
    "a = 0\n",
    "while(a <= 5):\n",
    "    print(a)\n",
    "    a = a + 1"
   ]
  },
  {
   "cell_type": "code",
   "execution_count": 6,
   "id": "8428d72a-903a-4ade-8926-758a7a8ae29a",
   "metadata": {},
   "outputs": [
    {
     "name": "stdin",
     "output_type": "stream",
     "text": [
      "Enter the number: 3\n"
     ]
    },
    {
     "name": "stdout",
     "output_type": "stream",
     "text": [
      "3\n",
      "4\n",
      "5\n",
      "6\n",
      "7\n"
     ]
    }
   ],
   "source": [
    "#Input from user\n",
    "\n",
    "x = int(input(\"Enter the number:\"))\n",
    "while(x <= 7):\n",
    "    print(x)\n",
    "    x = x + 1"
   ]
  },
  {
   "cell_type": "code",
   "execution_count": 7,
   "id": "632850cd-a39a-48d7-8a5e-f94473550cd6",
   "metadata": {},
   "outputs": [
    {
     "name": "stdout",
     "output_type": "stream",
     "text": [
      "4\n",
      "3\n",
      "2\n",
      "1\n"
     ]
    }
   ],
   "source": [
    "#Reverse loop\n",
    "\n",
    "a = 4\n",
    "while(a > 0):\n",
    "    print(a)\n",
    "    a = a - 1"
   ]
  },
  {
   "cell_type": "code",
   "execution_count": null,
   "id": "d6860256-c17e-4af2-9315-84c84ab139f9",
   "metadata": {},
   "outputs": [],
   "source": []
  }
 ],
 "metadata": {
  "kernelspec": {
   "display_name": "Python 3 (ipykernel)",
   "language": "python",
   "name": "python3"
  },
  "language_info": {
   "codemirror_mode": {
    "name": "ipython",
    "version": 3
   },
   "file_extension": ".py",
   "mimetype": "text/x-python",
   "name": "python",
   "nbconvert_exporter": "python",
   "pygments_lexer": "ipython3",
   "version": "3.12.4"
  }
 },
 "nbformat": 4,
 "nbformat_minor": 5
}
