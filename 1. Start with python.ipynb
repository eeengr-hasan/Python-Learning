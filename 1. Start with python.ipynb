{
 "cells": [
  {
   "cell_type": "code",
   "execution_count": 5,
   "id": "0e1a7c27-afbb-4afb-919f-c3c896c5623f",
   "metadata": {},
   "outputs": [
    {
     "name": "stdout",
     "output_type": "stream",
     "text": [
      "Topu\n",
      "5\n",
      "Bye\n"
     ]
    }
   ],
   "source": [
    "print(\"Topu\")\n",
    "print(5)\n",
    "print(\"Bye\")"
   ]
  },
  {
   "cell_type": "code",
   "execution_count": 6,
   "id": "3e0a1567-8b79-4243-9791-71969a74a99c",
   "metadata": {},
   "outputs": [
    {
     "data": {
      "text/plain": [
       "17"
      ]
     },
     "execution_count": 6,
     "metadata": {},
     "output_type": "execute_result"
    }
   ],
   "source": [
    "8 + 9"
   ]
  },
  {
   "cell_type": "code",
   "execution_count": 9,
   "id": "26d77aa7-3150-4afe-9bf9-7503f6b479f1",
   "metadata": {},
   "outputs": [
    {
     "name": "stdout",
     "output_type": "stream",
     "text": [
      "17\n"
     ]
    }
   ],
   "source": [
    "a = 8+9\n",
    "print(a)"
   ]
  },
  {
   "cell_type": "code",
   "execution_count": 14,
   "id": "a4f58dd5-2482-465e-82f4-7c0193b687d4",
   "metadata": {},
   "outputs": [
    {
     "name": "stdout",
     "output_type": "stream",
     "text": [
      "Topu \n",
      "Young Researcher\n"
     ]
    }
   ],
   "source": [
    "# Try hard Topu\n",
    "print(\"Topu \\nYoung Researcher\")"
   ]
  },
  {
   "cell_type": "code",
   "execution_count": 15,
   "id": "35094c3e-ed5b-4b17-92b2-4b2ae5fcae27",
   "metadata": {},
   "outputs": [
    {
     "name": "stdout",
     "output_type": "stream",
     "text": [
      "Topu 22 10 1997\n"
     ]
    }
   ],
   "source": [
    "print(\"Topu\", 22, 10, 1997)"
   ]
  },
  {
   "cell_type": "code",
   "execution_count": 16,
   "id": "682b0d78-cc07-4952-b895-06f347891339",
   "metadata": {},
   "outputs": [
    {
     "name": "stdout",
     "output_type": "stream",
     "text": [
      "Topu-22-10-1997\n"
     ]
    }
   ],
   "source": [
    "print(\"Topu\", 22, 10, 1997, sep = \"-\")"
   ]
  }
 ],
 "metadata": {
  "kernelspec": {
   "display_name": "Python 3 (ipykernel)",
   "language": "python",
   "name": "python3"
  },
  "language_info": {
   "codemirror_mode": {
    "name": "ipython",
    "version": 3
   },
   "file_extension": ".py",
   "mimetype": "text/x-python",
   "name": "python",
   "nbconvert_exporter": "python",
   "pygments_lexer": "ipython3",
   "version": "3.12.4"
  }
 },
 "nbformat": 4,
 "nbformat_minor": 5
}
